{
 "cells": [
  {
   "cell_type": "code",
   "execution_count": 17,
   "metadata": {},
   "outputs": [],
   "source": [
    "import numpy as np"
   ]
  },
  {
   "cell_type": "markdown",
   "metadata": {},
   "source": [
    "### Operations"
   ]
  },
  {
   "cell_type": "code",
   "execution_count": null,
   "metadata": {},
   "outputs": [],
   "source": [
    "incrément += ou *= ou /=\n",
    "division /\n",
    "carré **2\n",
    "reste de la divison euclidienne x%2\n",
    "quotient x//2"
   ]
  },
  {
   "cell_type": "markdown",
   "metadata": {},
   "source": [
    "### Boucles for"
   ]
  },
  {
   "cell_type": "code",
   "execution_count": 1,
   "metadata": {},
   "outputs": [
    {
     "name": "stdout",
     "output_type": "stream",
     "text": [
      "0\n",
      "1\n"
     ]
    }
   ],
   "source": [
    "for i in range(2):\n",
    "    print(i)"
   ]
  },
  {
   "cell_type": "code",
   "execution_count": 2,
   "metadata": {},
   "outputs": [
    {
     "name": "stdout",
     "output_type": "stream",
     "text": [
      "1\n",
      "2\n",
      "3\n"
     ]
    }
   ],
   "source": [
    "for i in range(1,4):\n",
    "    print(i)"
   ]
  },
  {
   "cell_type": "code",
   "execution_count": 3,
   "metadata": {},
   "outputs": [
    {
     "name": "stdout",
     "output_type": "stream",
     "text": [
      "1\n",
      "3\n"
     ]
    }
   ],
   "source": [
    "for i in range(1,4,2):\n",
    "    print(i)"
   ]
  },
  {
   "cell_type": "markdown",
   "metadata": {},
   "source": [
    "Exercice 1 Boucles for et conditions if"
   ]
  },
  {
   "cell_type": "markdown",
   "metadata": {},
   "source": [
    "#### Q1 Faire un programme qui compte le nombre de rectanges  qui partent de l'origine compris dans un cube 10x20 dont le aire est >40"
   ]
  },
  {
   "cell_type": "markdown",
   "metadata": {},
   "source": [
    "### Exercice résolu avec des boucles for"
   ]
  },
  {
   "cell_type": "code",
   "execution_count": 14,
   "metadata": {},
   "outputs": [
    {
     "name": "stdout",
     "output_type": "stream",
     "text": [
      "le compte est = 110\n"
     ]
    }
   ],
   "source": [
    "compte=0\n",
    "\n",
    "for x in range(1,21):\n",
    "    for y in range(1,11):\n",
    "        air=x*y\n",
    "        if air>=40:\n",
    "            compte+=1\n",
    "            \n",
    "print(\"le compte est =\",compte)            "
   ]
  },
  {
   "cell_type": "markdown",
   "metadata": {},
   "source": [
    "### Les boucles while"
   ]
  },
  {
   "cell_type": "code",
   "execution_count": 5,
   "metadata": {},
   "outputs": [
    {
     "name": "stdout",
     "output_type": "stream",
     "text": [
      "0\n",
      "1\n",
      "2\n",
      "3\n"
     ]
    }
   ],
   "source": [
    "i=0\n",
    "while i!=4:\n",
    "    print(i)\n",
    "    i+=1"
   ]
  },
  {
   "cell_type": "markdown",
   "metadata": {},
   "source": [
    "### Meme exercice qu'avant mais avec une boucle while"
   ]
  },
  {
   "cell_type": "code",
   "execution_count": 8,
   "metadata": {},
   "outputs": [
    {
     "name": "stdout",
     "output_type": "stream",
     "text": [
      "le compte est = 110\n"
     ]
    }
   ],
   "source": [
    "x=1\n",
    "compt=0\n",
    "while x<=20:\n",
    "    y=1\n",
    "    while y<=10:\n",
    "        air=x*y\n",
    "        if air>=40:\n",
    "            compt+=1\n",
    "        y+=1\n",
    "    \n",
    "    x+=1    \n",
    "print(\"le compte est =\",compt) "
   ]
  },
  {
   "cell_type": "markdown",
   "metadata": {},
   "source": [
    " #### Q2 Faire un programme qui compte le nombre de cubes qui partent de l'origine compris dans un cube 10x20x30 dont le volume est compris entre 1000 et 1500  et l'aire maximale des cotés est supérieur a 300"
   ]
  },
  {
   "cell_type": "code",
   "execution_count": 12,
   "metadata": {},
   "outputs": [
    {
     "name": "stdout",
     "output_type": "stream",
     "text": [
      "le resultat est = (10, 20, 6) et volume= 1200\n",
      "le resultat est = (10, 20, 6) et volume= 1200\n"
     ]
    }
   ],
   "source": [
    "s=1000\n",
    "\n",
    "for x in range(1,11):\n",
    "    for y in range(1,21):\n",
    "        for z in range(1,31):\n",
    "            vol=x*y*z\n",
    "            if vol>s:\n",
    "                resultat=x,y,z\n",
    "                \n",
    "                break #break c'est pour stopé la boucle nette    \n",
    "            \n",
    "#Deux manière de printer la meme chose\n",
    "print(\"le resultat est =\",resultat,\"et volume=\",vol) \n",
    "print(\"le resultat est = {} et volume= {}\".format(resultat,vol))\n",
    "        \n",
    "        \n",
    " "
   ]
  },
  {
   "cell_type": "markdown",
   "metadata": {},
   "source": [
    "### Opérations avec les listes"
   ]
  },
  {
   "cell_type": "markdown",
   "metadata": {},
   "source": [
    "Declaration"
   ]
  },
  {
   "cell_type": "code",
   "execution_count": 53,
   "metadata": {
    "scrolled": true
   },
   "outputs": [
    {
     "name": "stdout",
     "output_type": "stream",
     "text": [
      "['jacques', 1, 1.098891]\n"
     ]
    }
   ],
   "source": [
    "l=[]\n",
    "l=[1,2,3]\n",
    "l=[\"jacques\",\"paul\"]\n",
    "l=['jacques',1,1.098891]\n",
    "\n",
    "print(l)"
   ]
  },
  {
   "cell_type": "markdown",
   "metadata": {},
   "source": [
    "Declaration compacte: prends que deux arguments un for obligatoire et eventuellement un if"
   ]
  },
  {
   "cell_type": "code",
   "execution_count": 56,
   "metadata": {},
   "outputs": [
    {
     "data": {
      "text/plain": [
       "[0, 4, 8]"
      ]
     },
     "execution_count": 56,
     "metadata": {},
     "output_type": "execute_result"
    }
   ],
   "source": [
    "l=[ i for i in range(0,10,2) if i%4==0]\n",
    "l"
   ]
  },
  {
   "cell_type": "markdown",
   "metadata": {},
   "source": [
    "Longueur d'une liste  (length)"
   ]
  },
  {
   "cell_type": "code",
   "execution_count": 59,
   "metadata": {},
   "outputs": [
    {
     "name": "stdout",
     "output_type": "stream",
     "text": [
      "l= [0, 4, 8]  et longeur= 3\n"
     ]
    }
   ],
   "source": [
    "print(\"l=\",l,\" et longeur=\",len(l))"
   ]
  },
  {
   "cell_type": "markdown",
   "metadata": {},
   "source": [
    "Operations avec les listes"
   ]
  },
  {
   "cell_type": "code",
   "execution_count": 62,
   "metadata": {},
   "outputs": [
    {
     "data": {
      "text/plain": [
       "[1, 2, 4]"
      ]
     },
     "execution_count": 62,
     "metadata": {},
     "output_type": "execute_result"
    }
   ],
   "source": [
    "[1,2]+[4]"
   ]
  },
  {
   "cell_type": "code",
   "execution_count": 61,
   "metadata": {},
   "outputs": [
    {
     "data": {
      "text/plain": [
       "[['jacques', '90 ans', 'retraité', 1000],\n",
       " ['guillaume', '22 ans', 'etudiant', 3000]]"
      ]
     },
     "execution_count": 61,
     "metadata": {},
     "output_type": "execute_result"
    }
   ],
   "source": [
    "l1=[['jacques','90 ans','retraité',1000]]\n",
    "l2=[['guillaume','22 ans','etudiant',3000]]\n",
    "l1+l2"
   ]
  },
  {
   "cell_type": "code",
   "execution_count": 63,
   "metadata": {},
   "outputs": [
    {
     "data": {
      "text/plain": [
       "[1, 2, 1, 2]"
      ]
     },
     "execution_count": 63,
     "metadata": {},
     "output_type": "execute_result"
    }
   ],
   "source": [
    "[1,2]*2"
   ]
  },
  {
   "cell_type": "markdown",
   "metadata": {},
   "source": [
    "Chercher un élément, l'Indexing"
   ]
  },
  {
   "cell_type": "code",
   "execution_count": 66,
   "metadata": {},
   "outputs": [],
   "source": [
    "l=['jacquzq',1,19000]"
   ]
  },
  {
   "cell_type": "code",
   "execution_count": 77,
   "metadata": {},
   "outputs": [
    {
     "data": {
      "text/plain": [
       "('jacquzq', 19000)"
      ]
     },
     "execution_count": 77,
     "metadata": {},
     "output_type": "execute_result"
    }
   ],
   "source": [
    "l[0],l[2]"
   ]
  },
  {
   "cell_type": "code",
   "execution_count": 78,
   "metadata": {},
   "outputs": [
    {
     "data": {
      "text/plain": [
       "['jacquzq', 1, 19000, 4]"
      ]
     },
     "execution_count": 78,
     "metadata": {},
     "output_type": "execute_result"
    }
   ],
   "source": [
    "l.append(4)\n",
    "l"
   ]
  },
  {
   "cell_type": "code",
   "execution_count": 82,
   "metadata": {},
   "outputs": [
    {
     "data": {
      "text/plain": [
       "['paul', 'jacquzq', 1, 19000, 2]"
      ]
     },
     "execution_count": 82,
     "metadata": {},
     "output_type": "execute_result"
    }
   ],
   "source": [
    "l=['jacquzq',1,19000]\n",
    "l.insert(60,2)\n",
    "l.insert(0,'paul')\n",
    "l"
   ]
  },
  {
   "cell_type": "code",
   "execution_count": 84,
   "metadata": {},
   "outputs": [
    {
     "name": "stdout",
     "output_type": "stream",
     "text": [
      "['paul', 'jacquzq', 1]\n"
     ]
    }
   ],
   "source": [
    "l=['jacquzq',1,19000]\n",
    "l.pop()\n",
    "print(l)\n",
    "\n"
   ]
  },
  {
   "cell_type": "code",
   "execution_count": 86,
   "metadata": {},
   "outputs": [
    {
     "name": "stdout",
     "output_type": "stream",
     "text": [
      "['jacquzq', 19000]\n"
     ]
    }
   ],
   "source": [
    "l=['jacquzq',1,19000]\n",
    "l.pop(1)\n",
    "print(l)"
   ]
  },
  {
   "cell_type": "markdown",
   "metadata": {},
   "source": [
    "tri"
   ]
  },
  {
   "cell_type": "code",
   "execution_count": 14,
   "metadata": {},
   "outputs": [
    {
     "data": {
      "text/plain": [
       "[1, 3, 19]"
      ]
     },
     "execution_count": 14,
     "metadata": {},
     "output_type": "execute_result"
    }
   ],
   "source": [
    "l=[3,1,19]\n",
    "l=sorted(l)\n",
    "l"
   ]
  },
  {
   "cell_type": "markdown",
   "metadata": {},
   "source": [
    "Derniers éléments d'une liste"
   ]
  },
  {
   "cell_type": "code",
   "execution_count": 15,
   "metadata": {},
   "outputs": [
    {
     "data": {
      "text/plain": [
       "19"
      ]
     },
     "execution_count": 15,
     "metadata": {},
     "output_type": "execute_result"
    }
   ],
   "source": [
    "l[len(l)-1]"
   ]
  },
  {
   "cell_type": "markdown",
   "metadata": {},
   "source": [
    "Plus propre :"
   ]
  },
  {
   "cell_type": "code",
   "execution_count": 92,
   "metadata": {},
   "outputs": [
    {
     "data": {
      "text/plain": [
       "(3, 19)"
      ]
     },
     "execution_count": 92,
     "metadata": {},
     "output_type": "execute_result"
    }
   ],
   "source": [
    "l[-2] , l[-1]"
   ]
  },
  {
   "cell_type": "markdown",
   "metadata": {},
   "source": [
    "Reverser une liste"
   ]
  },
  {
   "cell_type": "code",
   "execution_count": 106,
   "metadata": {},
   "outputs": [
    {
     "data": {
      "text/plain": [
       "[69, 5, 42, 13, 2, 15]"
      ]
     },
     "execution_count": 106,
     "metadata": {},
     "output_type": "execute_result"
    }
   ],
   "source": [
    "l=[15,2,13,42,5,69]\n",
    "l=l[::-1]\n",
    "l"
   ]
  },
  {
   "cell_type": "code",
   "execution_count": 116,
   "metadata": {},
   "outputs": [
    {
     "data": {
      "text/plain": [
       "[2, 5, 13, 15, 42, 69]"
      ]
     },
     "execution_count": 116,
     "metadata": {},
     "output_type": "execute_result"
    }
   ],
   "source": [
    "l=[15,2,13,42,5,69]\n",
    "l.sort()\n",
    "l\n",
    "l=[15,2,13,42,5,69]\n",
    "l=sorted(l)\n",
    "l"
   ]
  },
  {
   "cell_type": "markdown",
   "metadata": {},
   "source": [
    "Conversion texte à liste"
   ]
  },
  {
   "cell_type": "code",
   "execution_count": 119,
   "metadata": {},
   "outputs": [
    {
     "data": {
      "text/plain": [
       "['J', 'sus s', ' fait crucifi', 'r']"
      ]
     },
     "execution_count": 119,
     "metadata": {},
     "output_type": "execute_result"
    }
   ],
   "source": [
    "text=\"Jesus se fait crucifier\"\n",
    "text.split(\"e\")"
   ]
  },
  {
   "cell_type": "markdown",
   "metadata": {},
   "source": [
    "Conversion liste à texte"
   ]
  },
  {
   "cell_type": "code",
   "execution_count": 124,
   "metadata": {},
   "outputs": [
    {
     "data": {
      "text/plain": [
       "'jean is suce'"
      ]
     },
     "execution_count": 124,
     "metadata": {},
     "output_type": "execute_result"
    }
   ],
   "source": [
    "l=[\"jean\", 'is', \"suce\"]\n",
    "text=\" \".join(l)\n",
    "text"
   ]
  },
  {
   "cell_type": "markdown",
   "metadata": {},
   "source": [
    "Exerice listes"
   ]
  },
  {
   "cell_type": "code",
   "execution_count": 18,
   "metadata": {},
   "outputs": [
    {
     "name": "stdout",
     "output_type": "stream",
     "text": [
      "Le max est 9 et le min est 0 et la somme de la liste est 16 \n"
     ]
    }
   ],
   "source": [
    "l=[1,4,9,0,2]\n",
    "l=sorted(l)\n",
    "maxx=l[-1]\n",
    "minn=l[0]\n",
    "\n",
    "print(\"Le max est {} et le min est {} et la somme de la liste est {} \".format(maxx,minn,sum(l)))"
   ]
  },
  {
   "cell_type": "markdown",
   "metadata": {},
   "source": [
    "Les solutions pour comparer les resultats d Anys avec William"
   ]
  },
  {
   "cell_type": "code",
   "execution_count": 20,
   "metadata": {},
   "outputs": [],
   "source": [
    "lst=np.random.random(102)\n",
    "lst=list(lst)\n",
    "med=np.percentile(lst,50)"
   ]
  },
  {
   "cell_type": "markdown",
   "metadata": {},
   "source": [
    "L'Exercice:"
   ]
  },
  {
   "cell_type": "markdown",
   "metadata": {},
   "source": [
    " - 0- Trier la liste par ordre décroissant\n",
    "- 1- Renvoyer la médiane d'une liste\n",
    "- 2- Insérer médiane+0.1 au bon endroit dans la liste triée \n",
    "- 3- Tri a bulle  Faire une fonction qui inverse les éléments d'une liste deux à deux en partant du premier element jusqu'a ce que la liste soit triée\n"
   ]
  },
  {
   "cell_type": "code",
   "execution_count": 137,
   "metadata": {
    "collapsed": true
   },
   "outputs": [
    {
     "name": "stdout",
     "output_type": "stream",
     "text": [
      "[0.9981081256463705, 0.9895034486642915, 0.9859891467881363, 0.9859593258701227, 0.9848823426610017, 0.9709566885380024, 0.9618267903459086, 0.9571575704731293, 0.9548039296747275, 0.9509485585497811, 0.949104984123394, 0.9421949408859198, 0.9384915293284809, 0.9277695088054205, 0.9180920444359179, 0.8830001448538461, 0.8394274168528327, 0.8286601456454842, 0.7554688236056109, 0.7550468045901457, 0.7339163563744363, 0.730526208593325, 0.7274133411838473, 0.714039136204951, 0.711034362965901, 0.7050932393841498, 0.6894317650797418, 0.6807360831132321, 0.6749396237929177, 0.6718813514377867, 0.6705735455969009, 0.669041139931034, 0.6658826364671416, 0.6542792532757927, 0.6423257444013112, 0.6379632758194046, 0.6357947308085721, 0.6345824496701002, 0.6328424784980233, 0.6275010742004143, 0.60312930671374, 0.5977610113789525, 0.5904469703756171, 0.5805678978882195, 0.5546012634515923, 0.5524570759460157, 0.5323639161818083, 0.5219886647384435, 0.5146265746646085, 0.5039813164199287, 0.5029543314997426, 0.49640151738616367, 0.4787598003601, 0.4762315562893221, 0.47373651578388243, 0.4663115944806613, 0.44952906749187826, 0.4491323073390161, 0.43897973320827444, 0.4160021076958764, 0.3956424311186669, 0.3714746965568082, 0.3705113441626663, 0.34742484512591676, 0.34305088421995134, 0.3280602945786796, 0.32610315197376105, 0.3009652672480202, 0.30093393878093844, 0.2947846860951231, 0.2868371119956742, 0.2707720594940777, 0.25987747054304344, 0.2200348414958282, 0.20934773284474983, 0.2056797157487782, 0.19873111329786097, 0.19260851775943866, 0.17652813610816465, 0.17330839582608026, 0.17310233450516954, 0.17038923078326174, 0.16670745086123206, 0.16043489322167515, 0.15365018402575537, 0.1422536662602336, 0.1338561760295527, 0.12976522242196364, 0.1265698516003838, 0.11462970323893262, 0.09885541392236541, 0.08540914340583639, 0.0745083564836031, 0.07114739125187175, 0.06762655121151495, 0.06280743841553127, 0.06196289373088726, 0.0613770090594955, 0.03115036029870455, 0.02949818013195038, 0.02518865772043899, 0.006971580196685978]\n"
     ]
    }
   ],
   "source": [
    "l=sorted(lst)\n",
    "l=l[::-1]\n",
    "print(l)"
   ]
  },
  {
   "cell_type": "code",
   "execution_count": 151,
   "metadata": {},
   "outputs": [
    {
     "name": "stdout",
     "output_type": "stream",
     "text": [
      "0.4996779244429531\n",
      "True\n"
     ]
    }
   ],
   "source": [
    "long=len(l)\n",
    "if long%2==1:\n",
    "    x=(long/2)-.5\n",
    "    x=int(x)\n",
    "    mediane=l[x]\n",
    "else:\n",
    "    x=long/2\n",
    "    x=int(x)\n",
    "    y=x-1\n",
    "    mediane=(l[x]+l[y])/2\n",
    "    \n",
    "print(mediane)\n",
    "J=mediane+0.1\n",
    "i=0\n",
    "while (l[i]>J):\n",
    "    i+=1\n",
    "l.insert(i,J)\n",
    "print(l==sorted(l)[::-1])\n",
    "    \n",
    "    \n",
    "    \n",
    "\n",
    "\n",
    "    "
   ]
  },
  {
   "cell_type": "code",
   "execution_count": 152,
   "metadata": {},
   "outputs": [],
   "source": [
    "l=[19,13,1,18,100]\n",
    "\n",
    "i=0\n",
    "j=i+1 .. j=4\n",
    "\n",
    "i=1\n",
    "j=+1 ..\n"
   ]
  },
  {
   "cell_type": "code",
   "execution_count": 154,
   "metadata": {},
   "outputs": [
    {
     "data": {
      "text/plain": [
       "[1, 13, 18, 19, 100]"
      ]
     },
     "execution_count": 154,
     "metadata": {},
     "output_type": "execute_result"
    }
   ],
   "source": [
    "for i in range(len(l)):\n",
    "    for j in range(i+1,len(l)):\n",
    "        if l[i]>l[j]:\n",
    "            l[i],l[j]=l[j],l[i]\n",
    "l"
   ]
  },
  {
   "cell_type": "markdown",
   "metadata": {},
   "source": [
    "# Les dictionnaires "
   ]
  },
  {
   "cell_type": "markdown",
   "metadata": {},
   "source": [
    "### Declaration"
   ]
  },
  {
   "cell_type": "code",
   "execution_count": 86,
   "metadata": {},
   "outputs": [],
   "source": [
    "d={}"
   ]
  },
  {
   "cell_type": "markdown",
   "metadata": {},
   "source": [
    "### Ajout d'element"
   ]
  },
  {
   "cell_type": "code",
   "execution_count": 87,
   "metadata": {},
   "outputs": [],
   "source": [
    "d['Nom']=\"Paul\"\n",
    "d['Notes']=19\n",
    "d['Taille']=181"
   ]
  },
  {
   "cell_type": "markdown",
   "metadata": {},
   "source": [
    "### Recuperer les cles , les valeurs et le tout"
   ]
  },
  {
   "cell_type": "code",
   "execution_count": 88,
   "metadata": {},
   "outputs": [
    {
     "data": {
      "text/plain": [
       "['Nom', 'Notes', 'Taille']"
      ]
     },
     "execution_count": 88,
     "metadata": {},
     "output_type": "execute_result"
    }
   ],
   "source": [
    "list(d.keys())"
   ]
  },
  {
   "cell_type": "code",
   "execution_count": 89,
   "metadata": {},
   "outputs": [
    {
     "data": {
      "text/plain": [
       "['Paul', 19, 181]"
      ]
     },
     "execution_count": 89,
     "metadata": {},
     "output_type": "execute_result"
    }
   ],
   "source": [
    "list(d.values())"
   ]
  },
  {
   "cell_type": "code",
   "execution_count": 90,
   "metadata": {},
   "outputs": [
    {
     "data": {
      "text/plain": [
       "[('Nom', 'Paul'), ('Notes', 19), ('Taille', 181)]"
      ]
     },
     "execution_count": 90,
     "metadata": {},
     "output_type": "execute_result"
    }
   ],
   "source": [
    "list(d.items())"
   ]
  },
  {
   "cell_type": "code",
   "execution_count": 91,
   "metadata": {},
   "outputs": [
    {
     "name": "stdout",
     "output_type": "stream",
     "text": [
      "Nom Paul\n",
      "Notes 19\n",
      "Taille 181\n"
     ]
    }
   ],
   "source": [
    "for (i,c) in d.items():\n",
    "    print(i,c)"
   ]
  },
  {
   "cell_type": "markdown",
   "metadata": {},
   "source": [
    "### Accéder à un élément du dictionnaire avec sa clé"
   ]
  },
  {
   "cell_type": "code",
   "execution_count": 92,
   "metadata": {},
   "outputs": [
    {
     "data": {
      "text/plain": [
       "181"
      ]
     },
     "execution_count": 92,
     "metadata": {},
     "output_type": "execute_result"
    }
   ],
   "source": [
    "d['Taille']"
   ]
  },
  {
   "cell_type": "markdown",
   "metadata": {},
   "source": [
    "### Updater une valeur avec sa clé : probleme on ne sait pas si cette clé existe"
   ]
  },
  {
   "cell_type": "code",
   "execution_count": 93,
   "metadata": {},
   "outputs": [
    {
     "data": {
      "text/plain": [
       "87"
      ]
     },
     "execution_count": 93,
     "metadata": {},
     "output_type": "execute_result"
    }
   ],
   "source": [
    "valeur_par_defaut=87\n",
    "d.get('Poids',valeur_par_defaut)"
   ]
  },
  {
   "cell_type": "code",
   "execution_count": 94,
   "metadata": {},
   "outputs": [
    {
     "data": {
      "text/plain": [
       "181"
      ]
     },
     "execution_count": 94,
     "metadata": {},
     "output_type": "execute_result"
    }
   ],
   "source": [
    "d.get('Taille',valeur_par_defaut)"
   ]
  },
  {
   "cell_type": "markdown",
   "metadata": {},
   "source": [
    "#### Si on veut augmenter une variable de 1 si elle est définie ou si elle n'est pas définie l'initialiser à 1 on peut faire comme ça"
   ]
  },
  {
   "cell_type": "code",
   "execution_count": 95,
   "metadata": {},
   "outputs": [],
   "source": [
    "d['nombre de succes']=d.get('nombre de succes',0)+1"
   ]
  },
  {
   "cell_type": "code",
   "execution_count": 96,
   "metadata": {},
   "outputs": [
    {
     "data": {
      "text/plain": [
       "1"
      ]
     },
     "execution_count": 96,
     "metadata": {},
     "output_type": "execute_result"
    }
   ],
   "source": [
    "d['nombre de succes']"
   ]
  },
  {
   "cell_type": "markdown",
   "metadata": {},
   "source": [
    "### Pourquoi c'est utile: Exemple : On peut compter les occurence de lettre dans un string "
   ]
  },
  {
   "cell_type": "code",
   "execution_count": 99,
   "metadata": {},
   "outputs": [
    {
     "name": "stdout",
     "output_type": "stream",
     "text": [
      "['a', 'b', 'c', 'd', 'e', 'f', 'g', 'h', 'i', 'j', 'k', 'l', 'm', 'n', 'o', 'p', 'q', 'r', 's', 't', 'u', 'v', 'w', 'x', 'y', 'z']\n"
     ]
    }
   ],
   "source": [
    "chr(97),chr(97+25)\n",
    "letters=[chr(i) for i in range(97,123)]\n",
    "print(letters)"
   ]
  },
  {
   "cell_type": "code",
   "execution_count": 103,
   "metadata": {},
   "outputs": [
    {
     "name": "stdout",
     "output_type": "stream",
     "text": [
      "{'j': 2, 'e': 9, ' ': 10, 's': 7, 'u': 2, 'i': 3, 'J': 1, 'o': 3, 'n': 5, 'a': 4, 't': 3, 'h': 1, 'm': 3, 'g': 2, 'd': 2, 'é': 2, 'p': 1, 'r': 3, 'c': 1, 'f': 2}\n"
     ]
    }
   ],
   "source": [
    "dic={}\n",
    "string='je suis Jonathan et je mange des épinards crémeuses et fongiformes'\n",
    "letters=[chr(i) for i in range(97,123)]\n",
    "for i in string:\n",
    "    dic[i]=dic.get(i,0)+1\n",
    "\n",
    "print(dic)"
   ]
  },
  {
   "cell_type": "code",
   "execution_count": null,
   "metadata": {},
   "outputs": [],
   "source": []
  }
 ],
 "metadata": {
  "kernelspec": {
   "display_name": "Python 3",
   "language": "python",
   "name": "python3"
  },
  "language_info": {
   "codemirror_mode": {
    "name": "ipython",
    "version": 3
   },
   "file_extension": ".py",
   "mimetype": "text/x-python",
   "name": "python",
   "nbconvert_exporter": "python",
   "pygments_lexer": "ipython3",
   "version": "3.7.3"
  }
 },
 "nbformat": 4,
 "nbformat_minor": 2
}
